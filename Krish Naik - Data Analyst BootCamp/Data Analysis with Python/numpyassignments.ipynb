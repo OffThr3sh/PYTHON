{
 "cells": [
  {
   "cell_type": "markdown",
   "metadata": {},
   "source": [
    "# Module: NumPy Assignments\n",
    "## Lesson: NumPy\n",
    "### Assignment 1: Array Creation and Manipulation\n",
    "\n",
    "1. Create a NumPy array of shape (5, 5) filled with random integers between 1 and 20. Replace all the elements in the third column with 1.\n",
    "2. Create a NumPy array of shape (4, 4) with values from 1 to 16. Replace the diagonal elements with 0.\n",
    "\n",
    "### Assignment 2: Array Indexing and Slicing\n",
    "\n",
    "1. Create a NumPy array of shape (6, 6) with values from 1 to 36. Extract the sub-array consisting of the 3rd to 5th rows and 2nd to 4th columns.\n",
    "2. Create a NumPy array of shape (5, 5) with random integers. Extract the elements on the border.\n",
    "\n",
    "### Assignment 3: Array Operations\n",
    "\n",
    "1. Create two NumPy arrays of shape (3, 4) filled with random integers. Perform element-wise addition, subtraction, multiplication, and division.\n",
    "2. Create a NumPy array of shape (4, 4) with values from 1 to 16. Compute the row-wise and column-wise sum.\n",
    "\n",
    "### Assignment 4: Statistical Operations\n",
    "\n",
    "1. Create a NumPy array of shape (5, 5) filled with random integers. Compute the mean, median, standard deviation, and variance of the array.\n",
    "2. Create a NumPy array of shape (3, 3) with values from 1 to 9. Normalize the array (i.e., scale the values to have a mean of 0 and a standard deviation of 1).\n",
    "\n",
    "### Assignment 5: Broadcasting\n",
    "\n",
    "1. Create a NumPy array of shape (3, 3) filled with random integers. Add a 1D array of shape (3,) to each row of the 2D array using broadcasting.\n",
    "2. Create a NumPy array of shape (4, 4) filled with random integers. Subtract a 1D array of shape (4,) from each column of the 2D array using broadcasting.\n",
    "\n",
    "### Assignment 6: Linear Algebra\n",
    "\n",
    "1. Create a NumPy array of shape (3, 3) representing a num-arr12. Compute its determinant, inverse, and eigenvalues.\n",
    "2. Create two NumPy arrays of shape (2, 3) and (3, 2). Perform num-arr12 multiplication on these arrays.\n",
    "\n",
    "### Assignment 7: Advanced Array Manipulation\n",
    "\n",
    "1. Create a NumPy array of shape (3, 3) with values from 1 to 9. Reshape the array to shape (1, 9) and then to shape (9, 1).\n",
    "2. Create a NumPy array of shape (5, 5) filled with random integers. Flatten the array and then reshape it back to (5, 5).\n",
    "\n",
    "### Assignment 8: Fancy Indexing and Boolean Indexing\n",
    "\n",
    "1. Create a NumPy array of shape (5, 5) filled with random integers. Use fancy indexing to extract the elements at the corners of the array.\n",
    "2. Create a NumPy array of shape (4, 4) filled with random integers. Use boolean indexing to set all elements greater than 10 to 10.\n",
    "\n",
    "### Assignment 9: Structured Arrays\n",
    "\n",
    "1. Create a structured array with fields 'name' (string), 'age' (integer), and 'weight' (float). Add some data and sort the array by age.\n",
    "2. Create a structured array with fields 'x' and 'y' (both integers). Add some data and compute the Euclidean distance between each pair of points.\n",
    "\n",
    "### Assignment 10: Masked Arrays\n",
    "\n",
    "1. Create a masked array of shape (4, 4) with random integers and mask the elements greater than 10. Compute the sum of the unmasked elements.\n",
    "2. Create a masked array of shape (3, 3) with random integers and mask the diagonal elements. Replace the masked elements with the mean of the unmasked elements."
   ]
  },
  {
   "cell_type": "code",
   "execution_count": 1,
   "id": "2848f74b",
   "metadata": {},
   "outputs": [],
   "source": [
    "import numpy as np"
   ]
  },
  {
   "cell_type": "code",
   "execution_count": 4,
   "metadata": {},
   "outputs": [
    {
     "data": {
      "text/plain": [
       "array([[ 1,  7,  1, 16, 18],\n",
       "       [ 8,  1,  1, 19,  5],\n",
       "       [11, 16,  1,  4, 12],\n",
       "       [ 2,  9,  1,  4, 20],\n",
       "       [ 8, 11,  1,  6, 12]], dtype=int32)"
      ]
     },
     "execution_count": 4,
     "metadata": {},
     "output_type": "execute_result"
    }
   ],
   "source": [
    "### Assignment 1: Array Creation and Manipulation\n",
    "\n",
    "### 1. Create a NumPy array of shape (5, 5) filled with random integers between 1 and 20. Replace all the elements in the third column with 1.\n",
    "\n",
    "num_arr1 = np.random.randint(1, 21, size=(5, 5))\n",
    "\n",
    "num_arr1[:, 2] = 1\n",
    "\n",
    "num_arr1"
   ]
  },
  {
   "cell_type": "code",
   "execution_count": 7,
   "id": "94a45bd9",
   "metadata": {},
   "outputs": [
    {
     "data": {
      "text/plain": [
       "array([[ 0,  2,  3,  4],\n",
       "       [ 5,  0,  7,  8],\n",
       "       [ 9, 10,  0, 12],\n",
       "       [13, 14, 15,  0]])"
      ]
     },
     "execution_count": 7,
     "metadata": {},
     "output_type": "execute_result"
    }
   ],
   "source": [
    "### 2. Create a NumPy array of shape (4, 4) with values from 1 to 16. Replace the diagonal elements with 0.\n",
    "\n",
    "num_arr2 = np.arange(1, 17).reshape(4, 4)\n",
    "\n",
    "np.fill_diagonal(num_arr2, 0)\n",
    "\n",
    "num_arr2"
   ]
  },
  {
   "cell_type": "code",
   "execution_count": 12,
   "id": "65dd29e7",
   "metadata": {},
   "outputs": [
    {
     "name": "stdout",
     "output_type": "stream",
     "text": [
      "[[ 1  2  3  4  5  6]\n",
      " [ 7  8  9 10 11 12]\n",
      " [13 14 15 16 17 18]\n",
      " [19 20 21 22 23 24]\n",
      " [25 26 27 28 29 30]\n",
      " [31 32 33 34 35 36]]\n",
      "[[14 15 16]\n",
      " [20 21 22]\n",
      " [26 27 28]]\n"
     ]
    }
   ],
   "source": [
    "### Assignment 2: Array Indexing and Slicing\n",
    "\n",
    "### 1. Create a NumPy array of shape (6, 6) with values from 1 to 36. Extract the sub-array consisting of the 3rd to 5th rows and 2nd to 4th columns.\n",
    "\n",
    "num_arr3 = np.arange(1, 37).reshape(6, 6)\n",
    "\n",
    "print(num_arr3)\n",
    "\n",
    "print(num_arr3[2:5, 1:4])"
   ]
  },
  {
   "cell_type": "code",
   "execution_count": 18,
   "id": "63fa9075",
   "metadata": {},
   "outputs": [
    {
     "name": "stdout",
     "output_type": "stream",
     "text": [
      "[[39 50  8 15 42]\n",
      " [69 67 75 35  1]\n",
      " [83 11 51 52 10]\n",
      " [84 74 43  0  6]\n",
      " [54 37 21 85 93]]\n",
      "[39 50  8 15 42 54 37 21 85 93 69 83 84  1 10  6]\n"
     ]
    }
   ],
   "source": [
    "### 2. Create a NumPy array of shape (5, 5) with random integers. Extract the elements on the border.\n",
    "\n",
    "num_arr4 = np.random.randint(0, 100, size=(5, 5))\n",
    "\n",
    "print(num_arr4)\n",
    "\n",
    "print(np.concatenate([num_arr4[0, :], num_arr4[-1, :], num_arr4[1:-1, 0], num_arr4[1:-1, -1]]))"
   ]
  },
  {
   "cell_type": "code",
   "execution_count": 20,
   "id": "3c952d73",
   "metadata": {},
   "outputs": [
    {
     "name": "stdout",
     "output_type": "stream",
     "text": [
      "[[18 30 93 35]\n",
      " [35 42 65 46]\n",
      " [86 93 14 56]]\n",
      "[[42  2 68 16]\n",
      " [ 4 95  3 98]\n",
      " [ 9 77 29 90]]\n",
      "Addition :  [[ 60  32 161  51]\n",
      " [ 39 137  68 144]\n",
      " [ 95 170  43 146]]\n",
      "Subtraction :  [[-24  28  25  19]\n",
      " [ 31 -53  62 -52]\n",
      " [ 77  16 -15 -34]]\n",
      "Multiplication :  [[ 756   60 6324  560]\n",
      " [ 140 3990  195 4508]\n",
      " [ 774 7161  406 5040]]\n",
      "Division :  [[ 0.42857143 15.          1.36764706  2.1875    ]\n",
      " [ 8.75        0.44210526 21.66666667  0.46938776]\n",
      " [ 9.55555556  1.20779221  0.48275862  0.62222222]]\n"
     ]
    }
   ],
   "source": [
    "### Assignment 3: Array Operations\n",
    "\n",
    "### 1. Create two NumPy arrays of shape (3, 4) filled with random integers. Perform element-wise addition, subtraction, multiplication, and division.\n",
    "\n",
    "num_arr5 = np.random.randint(0, 100, size=(3, 4))\n",
    "print(num_arr5)\n",
    "\n",
    "num_arr6 = np.random.randint(0, 100, size=(3, 4))\n",
    "print(num_arr6)\n",
    "\n",
    "print(\"Addition : \", num_arr5+num_arr6)\n",
    "print(\"Subtraction : \", num_arr5-num_arr6)\n",
    "print(\"Multiplication : \", num_arr5*num_arr6)\n",
    "print(\"Division : \", num_arr5/num_arr6)"
   ]
  },
  {
   "cell_type": "code",
   "execution_count": 25,
   "id": "21f25ad8",
   "metadata": {},
   "outputs": [
    {
     "name": "stdout",
     "output_type": "stream",
     "text": [
      "[[ 1  2  3  4]\n",
      " [ 5  6  7  8]\n",
      " [ 9 10 11 12]\n",
      " [13 14 15 16]]\n",
      "[10 26 42 58]\n",
      "[28 32 36 40]\n"
     ]
    }
   ],
   "source": [
    "### 2. Create a NumPy array of shape (4, 4) with values from 1 to 16. Compute the row-wise and column-wise sum.\n",
    "\n",
    "num_arr7 = np.arange(1, 17).reshape(4, 4)\n",
    "print(num_arr7)\n",
    "\n",
    "row_sum = np.sum(num_arr7, axis=1)\n",
    "print(row_sum)\n",
    "\n",
    "column_sum = np.sum(num_arr7, axis=0)\n",
    "print(column_sum)"
   ]
  },
  {
   "cell_type": "code",
   "execution_count": 28,
   "id": "0d3c7547",
   "metadata": {},
   "outputs": [
    {
     "name": "stdout",
     "output_type": "stream",
     "text": [
      "[[69 58 53  2 22]\n",
      " [40 77 52 24 58]\n",
      " [79 37 37 63 58]\n",
      " [41 74 54 12 25]\n",
      " [54 83 81 95 69]]\n",
      "52.68\n",
      "54.0\n",
      "23.256345370672495\n",
      "540.8575999999999\n"
     ]
    }
   ],
   "source": [
    "### Assignment 4: Statistical Operations\n",
    "\n",
    "### 1. Create a NumPy array of shape (5, 5) filled with random integers. Compute the mean, median, standard deviation, and variance of the array.\n",
    "\n",
    "num_arr8 = np.random.randint(0, 100, size=(5, 5))\n",
    "print(num_arr8)\n",
    "\n",
    "print(np.mean(num_arr8))\n",
    "print(np.median(num_arr8))\n",
    "print(np.std(num_arr8))\n",
    "print(np.var(num_arr8))"
   ]
  },
  {
   "cell_type": "code",
   "execution_count": 31,
   "id": "26af4b56",
   "metadata": {},
   "outputs": [
    {
     "name": "stdout",
     "output_type": "stream",
     "text": [
      "[[1 2 3]\n",
      " [4 5 6]\n",
      " [7 8 9]]\n",
      "[[-1.54919334 -1.161895   -0.77459667]\n",
      " [-0.38729833  0.          0.38729833]\n",
      " [ 0.77459667  1.161895    1.54919334]]\n"
     ]
    }
   ],
   "source": [
    "### 2. Create a NumPy array of shape (3, 3) with values from 1 to 9. Normalize the array (i.e., scale the values to have a mean of 0 and a standard deviation of 1).\n",
    "\n",
    "num_arr9 = np.arange(1, 10).reshape(3, 3)\n",
    "print(num_arr9)\n",
    "\n",
    "mean_arr9 = np.mean(num_arr9)\n",
    "std_dev_arr9 = np.std(num_arr9)\n",
    "\n",
    "normalize_arr9 = (num_arr9 - mean_arr9) / std_dev_arr9\n",
    "print(normalize_arr9)"
   ]
  },
  {
   "cell_type": "code",
   "execution_count": 32,
   "id": "0f982f6b",
   "metadata": {},
   "outputs": [
    {
     "name": "stdout",
     "output_type": "stream",
     "text": [
      "[[63 83  1]\n",
      " [53  6 49]\n",
      " [64 63 26]]\n",
      "[71 69 57]\n",
      "[[134 152  58]\n",
      " [124  75 106]\n",
      " [135 132  83]]\n"
     ]
    }
   ],
   "source": [
    "### Assignment 5: Broadcasting\n",
    "\n",
    "### 1. Create a NumPy array of shape (3, 3) filled with random integers. Add a 1D array of shape (3,) to each row of the 2D array using broadcasting.\n",
    "\n",
    "num_arr10 = np.random.randint(0, 100, size=(3, 3))\n",
    "\n",
    "num_arr10_1d = np.random.randint(0, 100, size=(3, ))\n",
    "\n",
    "result = num_arr10 + num_arr10_1d\n",
    "\n",
    "print(num_arr10)\n",
    "print(num_arr10_1d)\n",
    "print(result)"
   ]
  },
  {
   "cell_type": "code",
   "execution_count": 35,
   "id": "b12fbd79",
   "metadata": {},
   "outputs": [
    {
     "name": "stdout",
     "output_type": "stream",
     "text": [
      "[[82 36 19 44]\n",
      " [35 71 73 14]\n",
      " [18  5 32 31]\n",
      " [ 3  9 29 14]] \n",
      "\n",
      "[96 82 90 11] \n",
      "\n",
      "[[-14 -60 -77 -52]\n",
      " [-47 -11  -9 -68]\n",
      " [-72 -85 -58 -59]\n",
      " [ -8  -2  18   3]]\n"
     ]
    }
   ],
   "source": [
    "### 2. Create a NumPy array of shape (4, 4) filled with random integers. Subtract a 1D array of shape (4,) from each column of the 2D array using broadcasting.\n",
    "\n",
    "num_arr11 = np.random.randint(0, 100, size=(4, 4))\n",
    "\n",
    "num_arr11_1d = np.random.randint(0, 100, size=(4, ))\n",
    "\n",
    "result = num_arr11 - num_arr11_1d.reshape(-1, 1)\n",
    "\n",
    "print(num_arr11,\"\\n\")\n",
    "print(num_arr11_1d, \"\\n\")\n",
    "print(result)"
   ]
  },
  {
   "cell_type": "code",
   "execution_count": 38,
   "id": "784bb241",
   "metadata": {},
   "outputs": [
    {
     "name": "stdout",
     "output_type": "stream",
     "text": [
      "Matrix:\n",
      " [[1 2 3]\n",
      " [4 5 6]\n",
      " [7 8 9]]\n",
      "\n",
      "Determinant: 0.0\n",
      "\n",
      "Inverse:\n",
      " Matrix is singular and cannot be inverted.\n",
      "\n",
      "Eigenvalues: [ 1.61168440e+01 -1.11684397e+00 -1.30367773e-15]\n"
     ]
    }
   ],
   "source": [
    "### Assignment 6: Linear Algebra\n",
    "\n",
    "### 1. Create a NumPy array of shape (3, 3) representing a matrix. Compute its determinant, inverse, and eigenvalues.\n",
    "\n",
    "num_arr12 = np.array([[1, 2, 3], [4, 5, 6], [7, 8, 9]])\n",
    "\n",
    "determinant = np.linalg.det(num_arr12)\n",
    "\n",
    "try: \n",
    "    inverse = np.linalg.inv(num_arr12) \n",
    "except np.linalg.LinAlgError: \n",
    "    inverse = \"Matrix is singular and cannot be inverted.\"\n",
    "\n",
    "eigenvalues = np.linalg.eigvals(num_arr12)\n",
    "\n",
    "print(\"Matrix:\\n\", num_arr12) \n",
    "print(\"\\nDeterminant:\", determinant) \n",
    "print(\"\\nInverse:\\n\", inverse) \n",
    "print(\"\\nEigenvalues:\", eigenvalues)"
   ]
  },
  {
   "cell_type": "code",
   "execution_count": 39,
   "id": "bc0afd61",
   "metadata": {},
   "outputs": [
    {
     "name": "stdout",
     "output_type": "stream",
     "text": [
      "[[29 18 57]\n",
      " [79 52 63]] \n",
      "\n",
      "[[64 53]\n",
      " [41 75]\n",
      " [41 56]] \n",
      "\n",
      "[[ 4931  6079]\n",
      " [ 9771 11615]] \n",
      "\n"
     ]
    }
   ],
   "source": [
    "### 2. Create two NumPy arrays of shape (2, 3) and (3, 2). Perform matrix multiplication on these arrays.\n",
    "\n",
    "num_arr13 = np.random.randint(0, 100, size=(2, 3))\n",
    "num_arr14 = np.random.randint(0, 100, size=(3, 2))\n",
    "\n",
    "result = np.dot(num_arr13, num_arr14)\n",
    "\n",
    "print(num_arr13,\"\\n\")\n",
    "print(num_arr14,\"\\n\")\n",
    "print(result,\"\\n\")"
   ]
  },
  {
   "cell_type": "code",
   "execution_count": 44,
   "id": "d5526b0d",
   "metadata": {},
   "outputs": [
    {
     "name": "stdout",
     "output_type": "stream",
     "text": [
      "[[1 2 3]\n",
      " [4 5 6]\n",
      " [7 8 9]]\n",
      "[[1 2 3 4 5 6 7 8 9]]\n",
      "[[1]\n",
      " [2]\n",
      " [3]\n",
      " [4]\n",
      " [5]\n",
      " [6]\n",
      " [7]\n",
      " [8]\n",
      " [9]]\n"
     ]
    }
   ],
   "source": [
    "### Assignment 7: Advanced Array Manipulation\n",
    "\n",
    "### 1. Create a NumPy array of shape (3, 3) with values from 1 to 9. Reshape the array to shape (1, 9) and then to shape (9, 1).\n",
    "\n",
    "num_arr15 = np.arange(1, 10).reshape(3, 3)\n",
    "print(num_arr15)\n",
    "\n",
    "num_arr15 = num_arr15.reshape(1, 9)\n",
    "print(num_arr15)\n",
    "\n",
    "num_arr15 = num_arr15.reshape(9, 1)\n",
    "print(num_arr15)"
   ]
  },
  {
   "cell_type": "code",
   "execution_count": 45,
   "id": "f501a4e5",
   "metadata": {},
   "outputs": [
    {
     "name": "stdout",
     "output_type": "stream",
     "text": [
      "[[59 92 40 30 88]\n",
      " [50 71 62 63 56]\n",
      " [76 64 28 88 10]\n",
      " [49 29 65 63 56]\n",
      " [14 29 99 17  0]]\n",
      "[59 92 40 30 88 50 71 62 63 56 76 64 28 88 10 49 29 65 63 56 14 29 99 17\n",
      "  0]\n",
      "[[59 92 40 30 88]\n",
      " [50 71 62 63 56]\n",
      " [76 64 28 88 10]\n",
      " [49 29 65 63 56]\n",
      " [14 29 99 17  0]]\n"
     ]
    }
   ],
   "source": [
    "### 2. Create a NumPy array of shape (5, 5) filled with random integers. Flatten the array and then reshape it back to (5, 5).\n",
    "\n",
    "num_arr16 = np.random.randint(0, 100, size=(5, 5))\n",
    "print(num_arr16)\n",
    "\n",
    "num_arr16_flat = num_arr16.flatten()\n",
    "print(num_arr16_flat)\n",
    "\n",
    "num_arr16_reflat = num_arr16_flat.reshape(5, 5)\n",
    "print(num_arr16_reflat)"
   ]
  },
  {
   "cell_type": "code",
   "execution_count": 46,
   "id": "40562757",
   "metadata": {},
   "outputs": [
    {
     "name": "stdout",
     "output_type": "stream",
     "text": [
      "[[62 85 24 77 52]\n",
      " [62 34 53  3 54]\n",
      " [ 6 60  9 13  2]\n",
      " [86 44 61 11  3]\n",
      " [27 56 29 82 56]] \n",
      "\n",
      "[62 52 27 56] \n",
      "\n"
     ]
    }
   ],
   "source": [
    "### Assignment 8: Fancy Indexing and Boolean Indexing\n",
    "\n",
    "### 1. Create a NumPy array of shape (5, 5) filled with random integers. Use fancy indexing to extract the elements at the corners of the array.\n",
    "\n",
    "num_arr17 = np.random.randint(0, 100, size=(5, 5))\n",
    "\n",
    "num_arr17_corners = num_arr17[[0, 0, -1, -1], [0, -1, 0, -1]]\n",
    "\n",
    "print(num_arr17,\"\\n\")\n",
    "print(num_arr17_corners,\"\\n\")"
   ]
  },
  {
   "cell_type": "code",
   "execution_count": 47,
   "id": "26213121",
   "metadata": {},
   "outputs": [
    {
     "name": "stdout",
     "output_type": "stream",
     "text": [
      "[[36 73 38  9]\n",
      " [84 57 43 16]\n",
      " [83  7 91 56]\n",
      " [60 86  1 13]]\n",
      "[[10 10 10  9]\n",
      " [10 10 10 10]\n",
      " [10  7 10 10]\n",
      " [10 10  1 10]]\n"
     ]
    }
   ],
   "source": [
    "### 2. Create a NumPy array of shape (4, 4) filled with random integers. Use boolean indexing to set all elements greater than 10 to 10.\n",
    "\n",
    "num_arr18 = np.random.randint(0, 100, size=(4, 4))\n",
    "\n",
    "print(num_arr18)\n",
    "\n",
    "num_arr18[num_arr18 > 10] = 10\n",
    "\n",
    "print(num_arr18)"
   ]
  },
  {
   "cell_type": "code",
   "execution_count": 48,
   "id": "f39907db",
   "metadata": {},
   "outputs": [
    {
     "name": "stdout",
     "output_type": "stream",
     "text": [
      "[('Alice', 25, 55. ) ('Bob', 30, 85.5) ('Charlie', 20, 72.3)]\n",
      "[('Charlie', 20, 72.3) ('Alice', 25, 55. ) ('Bob', 30, 85.5)]\n"
     ]
    }
   ],
   "source": [
    "### Assignment 9: Structured Arrays\n",
    "\n",
    "### 1. Create a structured array with fields 'name' (string), 'age' (integer), and 'weight' (float). Add some data and sort the array by age.\n",
    "\n",
    "data_type = [('Name', 'U10'), ('Age', 'i4'), ('Weight', 'f4')]\n",
    "\n",
    "num_arr19 = np.array([('Alice', 25, 55.0),\n",
    "                      ('Bob', 30, 85.5),\n",
    "                      ('Charlie', 20, 72.3)], dtype=data_type)\n",
    "\n",
    "print(num_arr19)\n",
    "\n",
    "num_arr19_sorted = np.sort(num_arr19, order='Age')\n",
    "\n",
    "print(num_arr19_sorted)"
   ]
  }
 ],
 "metadata": {
  "kernelspec": {
   "display_name": "Python 3",
   "language": "python",
   "name": "python3"
  },
  "language_info": {
   "codemirror_mode": {
    "name": "ipython",
    "version": 3
   },
   "file_extension": ".py",
   "mimetype": "text/x-python",
   "name": "python",
   "nbconvert_exporter": "python",
   "pygments_lexer": "ipython3",
   "version": "3.12.8"
  }
 },
 "nbformat": 4,
 "nbformat_minor": 5
}
