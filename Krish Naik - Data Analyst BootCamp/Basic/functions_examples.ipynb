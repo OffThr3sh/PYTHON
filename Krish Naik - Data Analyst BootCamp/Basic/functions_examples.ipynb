{
 "cells": [
  {
   "cell_type": "code",
   "execution_count": 1,
   "metadata": {},
   "outputs": [
    {
     "name": "stdout",
     "output_type": "stream",
     "text": [
      "77.0 °F\n",
      "25.0 °C\n"
     ]
    }
   ],
   "source": [
    "## Example - 1 --> Temperature Conversion\n",
    "\n",
    "def conversion_temp(temp, unit):\n",
    "    \"\"\"This function converts temperature between Celsius and Fahrenheit\"\"\"\n",
    "    if unit == \"C\":\n",
    "        return (str(temp * 9/5 + 32) + \" °F\")  ## Converting Celsius to Fahrenheit\n",
    "    elif unit == \"F\":\n",
    "        return (str((temp-32) * 5/9) + \" °C\")  ## Converting Fahrenheit to Celsius\n",
    "    else:\n",
    "        return None\n",
    "\n",
    "print(conversion_temp(25, \"C\"))\n",
    "print(conversion_temp(77, \"F\"))"
   ]
  },
  {
   "cell_type": "code",
   "execution_count": 2,
   "metadata": {},
   "outputs": [
    {
     "name": "stdout",
     "output_type": "stream",
     "text": [
      "False\n",
      "True\n"
     ]
    }
   ],
   "source": [
    "## Example - 2 -->  Password Strength Checker\n",
    "\n",
    "def is_strong_password(password):\n",
    "    \"\"\"This Checks if the password given is strong or not\"\"\"\n",
    "\n",
    "    if len(password) < 8:\n",
    "        return False\n",
    "    if not any(char.isdigit() for char in password):\n",
    "        return False\n",
    "    if not any(char.islower() for char in password):\n",
    "        return False\n",
    "    if not any(char.isupper() for char in password):\n",
    "        return False\n",
    "    if not any(char in \"!@#$%^&*()\" for char in password):\n",
    "        return False\n",
    "    return True\n",
    "\n",
    "## Calling Function\n",
    "\n",
    "print(is_strong_password(\"WeakPwd\"))\n",
    "print(is_strong_password(\"Str0ngPwd!\"))\n",
    "    "
   ]
  },
  {
   "cell_type": "code",
   "execution_count": 16,
   "metadata": {},
   "outputs": [
    {
     "name": "stdout",
     "output_type": "stream",
     "text": [
      "5.90\n"
     ]
    }
   ],
   "source": [
    "## Example - 3 --> Calculate the Total Cost of Items in a Shopping Cart\n",
    "\n",
    "def calculate_total_cost(cart):\n",
    "    total_cost = 0\n",
    "    for item in cart:\n",
    "        total_cost += item[\"Price\"] * item[\"Quantity\"]\n",
    "    return total_cost\n",
    "\n",
    "## Example of Shopping Cart\n",
    "\n",
    "cart = [\n",
    "    {\"Name\" : \"Apple\", \"Price\" : 0.5, \"Quantity\" : 4},\n",
    "    {\"Name\" : \"Banana\", \"Price\" : 0.3, \"Quantity\" : 6},\n",
    "    {\"Name\" : \"Orange\", \"Price\" : 0.7, \"Quantity\" : 3},\n",
    "]\n",
    "\n",
    "## Calling the function\n",
    "\n",
    "total_cart_value = round(calculate_total_cost(cart), 3)\n",
    "print(f\"{total_cart_value:.2f}\")"
   ]
  },
  {
   "cell_type": "code",
   "execution_count": 17,
   "metadata": {},
   "outputs": [
    {
     "name": "stdout",
     "output_type": "stream",
     "text": [
      "True\n",
      "False\n"
     ]
    }
   ],
   "source": [
    "## Example - 4 --> Check if a String is Palindrome\n",
    "\n",
    "def is_palindrome(str):\n",
    "    str = str.lower().replace(\" \",\"\")\n",
    "    return str==str[::-1]\n",
    "\n",
    "print(is_palindrome(\"A Man A Plan A Canal Panama\"))\n",
    "print(is_palindrome(\"Hello\"))"
   ]
  },
  {
   "cell_type": "code",
   "execution_count": 18,
   "metadata": {},
   "outputs": [
    {
     "name": "stdout",
     "output_type": "stream",
     "text": [
      "120\n"
     ]
    }
   ],
   "source": [
    "## Example - 5 --> Calculate a Factorials of a number using recursion\n",
    "\n",
    "def factorial(num):\n",
    "    if num == 0:\n",
    "        return 1\n",
    "    else:\n",
    "        return num * factorial(num-1)\n",
    "    \n",
    "print(factorial(5))"
   ]
  },
  {
   "cell_type": "code",
   "execution_count": 19,
   "metadata": {},
   "outputs": [
    {
     "name": "stdout",
     "output_type": "stream",
     "text": [
      "{'suddenly': 1, 'the': 3, 'cat': 2, 'jumped': 2, 'over': 2, 'fence': 2, 'and': 1, 'ran': 2, 'away': 2, 'into': 2, 'night': 2}\n"
     ]
    }
   ],
   "source": [
    "## Example - 6 --> A function to read a file and count the frequency of each word\n",
    "\n",
    "def count_word_frequency(file_path):\n",
    "    word_count = {}\n",
    "    with open(file_path, 'r') as file:\n",
    "        for line in file:\n",
    "            words = line.split()\n",
    "            for word in words:\n",
    "                word = word.lower().strip('.,!?;:\"\\'/')\n",
    "                word_count[word] = word_count.get(word, 0) + 1\n",
    "    return word_count\n",
    "\n",
    "filepath = \"sample.txt\"\n",
    "word_frequency = count_word_frequency(filepath)\n",
    "print(word_frequency)\n"
   ]
  },
  {
   "cell_type": "code",
   "execution_count": 21,
   "metadata": {},
   "outputs": [
    {
     "name": "stdout",
     "output_type": "stream",
     "text": [
      "True\n",
      "False\n"
     ]
    }
   ],
   "source": [
    "import re\n",
    "\n",
    "## Example - 7 --> Validate a Email Address\n",
    "\n",
    "def valid_email_check(email):\n",
    "    \"\"\"This function checks if the email is valid\"\"\"\n",
    "    email_pattern = r'^[a-zA-Z0-9._%+-]+@[a-zA-Z0-9.-]+\\.[a-zA-Z]{2,}$'\n",
    "\n",
    "    return re.match(email_pattern, email) is not None\n",
    "\n",
    "print(valid_email_check(\"test@example.com\"))\n",
    "print(valid_email_check(\"invalid-email\"))"
   ]
  }
 ],
 "metadata": {
  "kernelspec": {
   "display_name": "Python 3",
   "language": "python",
   "name": "python3"
  },
  "language_info": {
   "codemirror_mode": {
    "name": "ipython",
    "version": 3
   },
   "file_extension": ".py",
   "mimetype": "text/x-python",
   "name": "python",
   "nbconvert_exporter": "python",
   "pygments_lexer": "ipython3",
   "version": "3.12.7"
  }
 },
 "nbformat": 4,
 "nbformat_minor": 2
}
