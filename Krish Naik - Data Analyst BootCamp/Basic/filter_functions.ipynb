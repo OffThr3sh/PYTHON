{
 "cells": [
  {
   "cell_type": "markdown",
   "metadata": {},
   "source": [
    "### The filter() function in python\n",
    "\n",
    "#### The filter() function constructs an iterator from elements of an iterable for which a function returns True. it is used to filter out items from a list (or any other iterable) based on a condition."
   ]
  },
  {
   "cell_type": "code",
   "execution_count": 1,
   "metadata": {},
   "outputs": [],
   "source": [
    "def even(num):\n",
    "    if num%2 == 0:\n",
    "        return True"
   ]
  },
  {
   "cell_type": "code",
   "execution_count": 2,
   "metadata": {},
   "outputs": [
    {
     "data": {
      "text/plain": [
       "True"
      ]
     },
     "execution_count": 2,
     "metadata": {},
     "output_type": "execute_result"
    }
   ],
   "source": [
    "even(24)"
   ]
  },
  {
   "cell_type": "code",
   "execution_count": 3,
   "metadata": {},
   "outputs": [
    {
     "data": {
      "text/plain": [
       "[2, 4, 6, 8, 10, 12]"
      ]
     },
     "execution_count": 3,
     "metadata": {},
     "output_type": "execute_result"
    }
   ],
   "source": [
    "lst1 = [1,2,3,4,5,6,7,8,9,10,11,12]\n",
    "\n",
    "list(filter(even, lst1))\n",
    "\n"
   ]
  },
  {
   "cell_type": "code",
   "execution_count": 2,
   "metadata": {},
   "outputs": [
    {
     "name": "stdout",
     "output_type": "stream",
     "text": [
      "[6, 7, 8, 9]\n"
     ]
    }
   ],
   "source": [
    "## filter() with lambda function\n",
    "\n",
    "num = [1,2,3,4,5,6,7,8,9]\n",
    "\n",
    "greater_then_five = list(filter(lambda x : x > 5, num))\n",
    "\n",
    "print(greater_then_five)"
   ]
  },
  {
   "cell_type": "code",
   "execution_count": 3,
   "metadata": {},
   "outputs": [
    {
     "name": "stdout",
     "output_type": "stream",
     "text": [
      "[6, 8]\n"
     ]
    }
   ],
   "source": [
    "## filter() with multiple conditions\n",
    "\n",
    "numbers = [1,2,3,4,5,6,7,8,9]\n",
    "\n",
    "even_and_greater_then_five = list(filter(lambda x : x % 2 == 0 and x > 5, numbers))\n",
    "\n",
    "print(even_and_greater_then_five)"
   ]
  },
  {
   "cell_type": "code",
   "execution_count": 8,
   "metadata": {},
   "outputs": [
    {
     "name": "stdout",
     "output_type": "stream",
     "text": [
      "[{'Name': 'Mrutyunjay', 'Age': 32}, {'Name': 'Manzil', 'Age': 33}, {'Name': 'Sahil', 'Age': 28}]\n"
     ]
    }
   ],
   "source": [
    "## filter() to check if the age is greater then 25 in dictionaries\n",
    "\n",
    "def age_greater_than_25(person):\n",
    "    return person['Age'] > 25\n",
    "\n",
    "people = [\n",
    "    {'Name' : 'Mrutyunjay', 'Age' : 32},\n",
    "    {'Name' : 'Manzil', 'Age' : 33},\n",
    "    {'Name' : 'Sahil', 'Age' : 28}\n",
    "]\n",
    "\n",
    "print(list(filter(age_greater_than_25, people)))\n"
   ]
  },
  {
   "cell_type": "markdown",
   "metadata": {},
   "source": [
    "### Conclusion\n",
    "\n",
    "##### The filter() function is a powerful tool for creating iterators that filter out an iterable based on a function. it is commonly used for data cleaning, filtering objects, and removing unwanted elements from lists. By mastering filter(), you can write more concise and efficient code for processing and manipulating collections in python."
   ]
  }
 ],
 "metadata": {
  "kernelspec": {
   "display_name": "Python 3",
   "language": "python",
   "name": "python3"
  },
  "language_info": {
   "codemirror_mode": {
    "name": "ipython",
    "version": 3
   },
   "file_extension": ".py",
   "mimetype": "text/x-python",
   "name": "python",
   "nbconvert_exporter": "python",
   "pygments_lexer": "ipython3",
   "version": "3.12.7"
  }
 },
 "nbformat": 4,
 "nbformat_minor": 2
}
