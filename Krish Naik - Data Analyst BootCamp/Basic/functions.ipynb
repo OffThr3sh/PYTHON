{
 "cells": [
  {
   "cell_type": "code",
   "execution_count": 1,
   "metadata": {},
   "outputs": [],
   "source": [
    "# def function_name(parameters):\n",
    "#     \"\"\"Docstring\"\"\"\n",
    "#     # Function body\n",
    "#     return expression"
   ]
  },
  {
   "cell_type": "code",
   "execution_count": 2,
   "metadata": {},
   "outputs": [
    {
     "name": "stdout",
     "output_type": "stream",
     "text": [
      "The Number is Even\n"
     ]
    }
   ],
   "source": [
    "## Why Functions\n",
    "\n",
    "num = 24\n",
    "if num % 2 == 0:\n",
    "    print(\"The Number is Even\")\n",
    "else:\n",
    "    print(\"The Number is Odd\")"
   ]
  },
  {
   "cell_type": "code",
   "execution_count": 3,
   "metadata": {},
   "outputs": [],
   "source": [
    "## Function Defination\n",
    "\n",
    "def even_or_odd(num):\n",
    "\n",
    "    \"\"\"This Function Finds Even or Odd\"\"\"\n",
    "    \n",
    "    if num % 2 == 0:\n",
    "        print(\"The Number is Even\")\n",
    "    else:\n",
    "        print(\"The Number is Odd\")"
   ]
  },
  {
   "cell_type": "code",
   "execution_count": 4,
   "metadata": {},
   "outputs": [
    {
     "name": "stdout",
     "output_type": "stream",
     "text": [
      "The Number is Even\n",
      "The Number is Odd\n"
     ]
    }
   ],
   "source": [
    "## Call this functions\n",
    "\n",
    "even_or_odd(24)\n",
    "even_or_odd(25)"
   ]
  },
  {
   "cell_type": "code",
   "execution_count": 5,
   "metadata": {},
   "outputs": [
    {
     "name": "stdout",
     "output_type": "stream",
     "text": [
      "6\n"
     ]
    }
   ],
   "source": [
    "def add(a, b):\n",
    "    return a+b\n",
    "\n",
    "Result = add(2, 4)\n",
    "print(Result)"
   ]
  },
  {
   "cell_type": "code",
   "execution_count": 6,
   "metadata": {},
   "outputs": [
    {
     "name": "stdout",
     "output_type": "stream",
     "text": [
      "Hello Mrutyunjay, Welcome to My Function\n",
      "Hello User, Welcome to My Function\n"
     ]
    }
   ],
   "source": [
    "## Default Parameters\n",
    "\n",
    "def greet(name = \"User\"):\n",
    "    print(f\"Hello {name}, Welcome to My Function\")\n",
    "\n",
    "greet(\"Mrutyunjay\")\n",
    "greet() # if any name is not given in the argument then by default it will print the value as \"User\" otherwise if name is given then it will print as usual."
   ]
  },
  {
   "cell_type": "code",
   "execution_count": 7,
   "metadata": {},
   "outputs": [
    {
     "name": "stdout",
     "output_type": "stream",
     "text": [
      "1\n",
      "2\n",
      "3\n",
      "4\n",
      "5\n",
      "6\n",
      "7\n",
      "8\n",
      "Mrutyunjay\n"
     ]
    }
   ],
   "source": [
    "## Variable Length Arguments\n",
    "\n",
    "## Positional Arguments\n",
    "\n",
    "def print_numbers(*args):\n",
    "    for number in args:\n",
    "        print(number)\n",
    "\n",
    "print_numbers(1, 2, 3, 4, 5, 6, 7, 8, \"Mrutyunjay\") ## \"*args\" is used inside the function parameters for any number of arguments."
   ]
  },
  {
   "cell_type": "code",
   "execution_count": 8,
   "metadata": {},
   "outputs": [
    {
     "name": "stdout",
     "output_type": "stream",
     "text": [
      "Name : Mrutyunjay\n",
      "Age : 24\n",
      "Country : India\n"
     ]
    }
   ],
   "source": [
    "## Keywords Arguments\n",
    "\n",
    "def print_details(**kwargs):\n",
    "    for key, value in kwargs.items():\n",
    "        print(f\"{key} : {value}\")\n",
    "\n",
    "print_details(Name = \"Mrutyunjay\", Age = \"24\", Country = \"India\") ## We use \"**kwargs\" (abbr - keywords argument) inside function parameters to print any number key value pairs in the parameters. Note that the function call parameters will only contains key and value pairs.\n"
   ]
  },
  {
   "cell_type": "code",
   "execution_count": 9,
   "metadata": {},
   "outputs": [
    {
     "name": "stdout",
     "output_type": "stream",
     "text": [
      "positional Argument : 1\n",
      "positional Argument : 2\n",
      "positional Argument : 3\n",
      "positional Argument : 4\n",
      "positional Argument : Manzil\n",
      "Name : Mrutyunjay\n",
      "Age : 24\n",
      "Country : India\n"
     ]
    }
   ],
   "source": [
    "## Working with Positional and Keywords arguments\n",
    "\n",
    "def print_details(*args, **kwargs):\n",
    "\n",
    "    for val in args:\n",
    "        print(f\"positional Argument : {val}\")\n",
    "\n",
    "    for key, value in kwargs.items():\n",
    "        print(f\"{key} : {value}\")\n",
    "\n",
    "print_details(1, 2, 3, 4, \"Manzil\", Name = \"Mrutyunjay\", Age = \"24\", Country = \"India\") ## Note that the Postional arguments value should be before the keywords arguments value or it will result in an error."
   ]
  },
  {
   "cell_type": "code",
   "execution_count": 10,
   "metadata": {},
   "outputs": [
    {
     "name": "stdout",
     "output_type": "stream",
     "text": [
      "6\n"
     ]
    }
   ],
   "source": [
    "## Return Statement\n",
    "\n",
    "def multiply(a, b):\n",
    "    return a*b\n",
    "\n",
    "print(multiply(2, 3))"
   ]
  }
 ],
 "metadata": {
  "kernelspec": {
   "display_name": "Python 3",
   "language": "python",
   "name": "python3"
  },
  "language_info": {
   "codemirror_mode": {
    "name": "ipython",
    "version": 3
   },
   "file_extension": ".py",
   "mimetype": "text/x-python",
   "name": "python",
   "nbconvert_exporter": "python",
   "pygments_lexer": "ipython3",
   "version": "3.12.7"
  }
 },
 "nbformat": 4,
 "nbformat_minor": 2
}
