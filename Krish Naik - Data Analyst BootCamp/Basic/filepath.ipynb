{
 "cells": [
  {
   "cell_type": "code",
   "execution_count": 1,
   "metadata": {},
   "outputs": [
    {
     "name": "stdout",
     "output_type": "stream",
     "text": [
      "Directory 'package' create\n"
     ]
    }
   ],
   "source": [
    "## Create a new directory\n",
    "\n",
    "import os\n",
    "\n",
    "new_directory=\"package\"\n",
    "os.mkdir(new_directory)\n",
    "print(f\"Directory '{new_directory}' create\")"
   ]
  },
  {
   "cell_type": "code",
   "execution_count": null,
   "metadata": {},
   "outputs": [
    {
     "name": "stdout",
     "output_type": "stream",
     "text": [
      "['3.1-Lists.ipynb', 'assignment_question.ipynb', 'assignment_solution.ipynb', 'Conditionalstatements.ipynb', 'destination.txt', 'dictionaries.ipynb', 'dictionaries_assignment_solution.ipynb', 'example.bin', 'example.csv', 'example.txt', 'fileoperation.ipynb', 'filepath.ipynb', 'filter_functions.ipynb', 'functions.ipynb', 'functionsassignmentsoln.ipynb', 'functions_examples.ipynb', 'import.ipynb', 'import_modules', 'Lambda_Functions.ipynb', 'list_assignment_solution.ipynb', 'Loops.ipynb', 'Loops_assignments.ipynb', 'Loops_assignment_solutions.ipynb', 'map_functions.ipynb', 'package', 'sample.txt', 'Sets.ipynb', 'sets_assignment.ipynb', 'set_assignments_solution.ipynb', 'source.txt', 'standardLibrary.ipynb', 'Tuple.ipynb', 'tuple_assignment.ipynb', 'tuple_assignment_solution.ipynb']\n"
     ]
    }
   ],
   "source": [
    "## Listing files and directories\n",
    "\n",
    "items=os.listdir('.')\n",
    "print(items)"
   ]
  },
  {
   "cell_type": "code",
   "execution_count": 3,
   "metadata": {},
   "outputs": [
    {
     "name": "stdout",
     "output_type": "stream",
     "text": [
      "folder\\file.txt\n"
     ]
    }
   ],
   "source": [
    "## Joining paths\n",
    "\n",
    "dir_name=\"folder\"\n",
    "file_name=\"file.txt\"\n",
    "full_path=os.path.join(dir_name, file_name)\n",
    "print(full_path)"
   ]
  },
  {
   "cell_type": "code",
   "execution_count": 4,
   "metadata": {},
   "outputs": [
    {
     "name": "stdout",
     "output_type": "stream",
     "text": [
      "d:\\WORK\\PYTHON\\Python-GITHUB\\Krish Naik - Data Analyst BootCamp\\Basic\\folder\\file.txt\n"
     ]
    }
   ],
   "source": [
    "dir_name=\"folder\"\n",
    "file_name=\"file.txt\"\n",
    "full_path=os.path.join(os.getcwd(),dir_name, file_name)\n",
    "print(full_path)"
   ]
  },
  {
   "cell_type": "code",
   "execution_count": null,
   "metadata": {},
   "outputs": [],
   "source": []
  }
 ],
 "metadata": {
  "kernelspec": {
   "display_name": "Python 3",
   "language": "python",
   "name": "python3"
  },
  "language_info": {
   "codemirror_mode": {
    "name": "ipython",
    "version": 3
   },
   "file_extension": ".py",
   "mimetype": "text/x-python",
   "name": "python",
   "nbconvert_exporter": "python",
   "pygments_lexer": "ipython3",
   "version": "3.12.7"
  }
 },
 "nbformat": 4,
 "nbformat_minor": 2
}
